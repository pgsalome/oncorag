{
 "cells": [
  {
   "metadata": {},
   "cell_type": "raw",
   "source": "",
   "id": "9e5411e8d0304de4"
  },
  {
   "cell_type": "markdown",
   "metadata": {},
   "source": [
    "# 🧠 Oncorag2 Tutorial: End-to-End Clinical Feature Extraction & Question Answering\n",
    "\n",
    "Welcome to the **Oncorag2** tutorial!\n",
    "\n",
    "This notebook guides you through the full pipeline for extracting and querying clinical features from oncology patient records using:\n",
    "\n",
    "- 🤖 Conversational feature engineering (via LLM agent)\n",
    "- 📄 Clinical text processing + feature extraction\n",
    "- 🔍 Retrieval-Augmented Generation (RAG) chatbot for patient-specific Q&A\n",
    "\n",
    "---"
   ],
   "id": "940241ce18b20edf"
  },
  {
   "cell_type": "markdown",
   "metadata": {},
   "source": [
    "## 📌 Step 1: Generate a Feature Extraction Template\n",
    "This step launches a conversational agent to define a custom feature set for your oncology task (e.g., \"Triple-negative breast cancer\")."
   ],
   "id": "a13bfb775aa5e393"
  },
  {
   "cell_type": "code",
   "metadata": {
    "ExecuteTime": {
     "end_time": "2025-03-30T21:31:11.143730Z",
     "start_time": "2025-03-30T21:31:10.878355Z"
    }
   },
   "source": [
    "!python scripts/run_feature_generation.py"
   ],
   "id": "9495b2cc5bb18a02",
   "outputs": [
    {
     "name": "stdout",
     "output_type": "stream",
     "text": [
      "python: can't open file '/home/patrick/projects/git/oncorag/notebooks/scripts/run_feature_generation.py': [Errno 2] No such file or directory\r\n"
     ]
    }
   ],
   "execution_count": 4
  },
  {
   "cell_type": "markdown",
   "metadata": {},
   "source": [
    "The agent will ask for:\n",
    "- The disease/entity you are working with\n",
    "- Any areas of interest (e.g., biomarkers, staging)\n",
    "- It will generate 5 features per batch and allow you to confirm or request more\n",
    "\n",
    "Output is saved in: `config/<entity>_feature_config.json`"
   ],
   "id": "e8f9eebadb4f703e"
  },
  {
   "cell_type": "markdown",
   "metadata": {},
   "source": [
    "## 📌 Step 2: Extract Data From Patient Records\n",
    "This uses the generated feature config to extract features from either real or synthetic patient notes."
   ],
   "id": "7a6234222672174"
  },
  {
   "cell_type": "code",
   "metadata": {},
   "execution_count": null,
   "outputs": [],
   "source": [
    "!python scripts/run_data_extraction.py \\\n",
    "  --features config/tripple_negative_breast_feature_config.json \\\n",
    "  --data-dir data/sample_patient \\\n",
    "  --output output/extracted_data.csv \\\n",
    "  --context-csv output/context_data.csv \\\n",
    "  --raw-csv output/raw_context_data.csv \\\n",
    "  --collection patient_contexts"
   ],
   "id": "93233cdb1e20f16f"
  },
  {
   "cell_type": "markdown",
   "metadata": {},
   "source": [
    "✅ If `--data-dir` is empty or not provided, synthetic notes will be generated automatically.\n",
    "\n",
    "The following will be created:\n",
    "- `extracted_data.csv`: structured features per patient\n",
    "- `context_data.csv`: context snippets used for vector search\n",
    "- `raw_context_data.csv`: full extracted mentions (raw + cleaned)\n",
    "\n",
    "These are also ingested into the IRIS vector database for downstream retrieval."
   ],
   "id": "869cf2a56dc71e6a"
  },
  {
   "cell_type": "markdown",
   "metadata": {},
   "source": [
    "## 📌 Step 3: Launch the Patient Data Chatbot\n",
    "Use this to query patient-specific details with RAG-based search (structured + unstructured)."
   ],
   "id": "7cfeacb6787e3eb7"
  },
  {
   "cell_type": "code",
   "metadata": {},
   "execution_count": null,
   "outputs": [],
   "source": [
    "!python scripts/run_chatbot.py \\\n",
    "  --extracted-data output/extracted_data.csv \\\n",
    "  --collection patient_contexts \\\n",
    "  --verbose"
   ],
   "id": "4741a11fb05bc6e7"
  },
  {
   "cell_type": "markdown",
   "metadata": {},
   "source": [
    "✅ Example questions you can ask:\n",
    "- *What is the patient's ER status?*\n",
    "- *How many positive nodes were found?*\n",
    "- *Did the patient receive chemotherapy?*\n",
    "\n",
    "The chatbot will combine context from both structured fields and embedded note segments."
   ],
   "id": "3d44feaa24857839"
  },
  {
   "cell_type": "markdown",
   "metadata": {},
   "source": [
    "## ✅ Done!\n",
    "You’ve completed the full Oncorag2 pipeline.\n",
    "\n",
    "**From feature engineering to clinical Q&A — fully automated.**\n",
    "\n",
    "Feel free to explore the generated files in `output/` or test other entity configs."
   ],
   "id": "69f88834c67a1be3"
  }
 ],
 "metadata": {
  "kernelspec": {
   "display_name": "Python 3",
   "language": "python",
   "name": "python3"
  },
  "language_info": {
   "name": "python",
   "version": "3.10"
  }
 },
 "nbformat": 4,
 "nbformat_minor": 5
}
